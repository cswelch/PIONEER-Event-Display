{
 "cells": [
  {
   "cell_type": "code",
   "execution_count": null,
   "metadata": {},
   "outputs": [],
   "source": [
    "#This is an example notebook that shows how the Event_Visualizer class can be used.\n",
    "from event_visualizer import Event_Visualizer\n",
    "import ROOT as r\n",
    "%load_ext autoreload\n",
    "%autoreload 2\n",
    "# %matplotlib qt"
   ]
  },
  {
   "cell_type": "code",
   "execution_count": null,
   "metadata": {},
   "outputs": [],
   "source": [
    "EV = Event_Visualizer()\n",
    "\n",
    "input_file = r.TFile(\"~/pioneer/main/run/test.root\")\n",
    "EV.visualize_event(input_file, 1, display_text_output=False);"
   ]
  },
  {
   "cell_type": "code",
   "execution_count": null,
   "metadata": {},
   "outputs": [],
   "source": [
    "#TESTING STUFF, USED TO FIGURE OUT SIPM / CALO / ATAR METHODS AND LOOP STRUCTURE\n",
    "tree = input_file.Get(\"sim\")\n",
    "\n",
    "#Arrays to store pixel information to be added.\n",
    "pixel_times = []\n",
    "pixel_IDs = []\n",
    "pixel_edep = []\n",
    "pixel_pdgs = []\n",
    "\n",
    "sipm_ids = []\n",
    "sipm_edeps = []\n",
    "\n",
    "for branch in tree:\n",
    "    for atar in branch.atar:\n",
    "        pixel_times.append(atar.GetTime())\n",
    "        pixel_IDs.append(atar.GetPixelID())\n",
    "        pixel_edep.append(atar.GetEdep())\n",
    "        pixel_pdgs.append(atar.GetPDGID())\n",
    "\n",
    "    #Loop over the sipm branch to get the IDs of the SiPMs that were hit.\n",
    "    for sipm in branch.sipm:\n",
    "        sipm_ids.append(sipm.GetID())\n",
    "        sipm_edeps.append(sipm.GetNHits())\n",
    "\n",
    "\n",
    "# print(pixel_times, \"\\n\\n\")\n",
    "# print(pixel_IDs, \"\\n\\n\")\n",
    "# print(pixel_edep, \"\\n\\n\")\n",
    "# print(pixel_pdgs, \"\\n\\n\")\n",
    "# print(sipm_ids, \"\\n\\n\")\n",
    "# print(sipm_edeps)"
   ]
  },
  {
   "cell_type": "code",
   "execution_count": null,
   "metadata": {},
   "outputs": [],
   "source": [
    "#TESTING STUFF\n",
    "\n",
    "hist = r.TH1F(\"h1\", \"Edep\", 100, 0, 100)\n",
    "\n",
    "# for entry in tree:\n",
    "#     for atar in entry.atar:\n",
    "#         #hist.Fill(calo.GetTotalEnergyDeposit())\n",
    "#         print(atar.edep)\n",
    "\n",
    "canv = r.TCanvas()\n",
    "hist.Draw()\n",
    "canv.Update()\n",
    "canv.Draw()"
   ]
  }
 ],
 "metadata": {
  "kernelspec": {
   "display_name": "Python 3.10.4 64-bit",
   "language": "python",
   "name": "python3"
  },
  "language_info": {
   "codemirror_mode": {
    "name": "ipython",
    "version": 3
   },
   "file_extension": ".py",
   "mimetype": "text/x-python",
   "name": "python",
   "nbconvert_exporter": "python",
   "pygments_lexer": "ipython3",
   "version": "3.10.4"
  },
  "orig_nbformat": 4,
  "vscode": {
   "interpreter": {
    "hash": "916dbcbb3f70747c44a77c7bcd40155683ae19c65e1c03b4aa3499c5328201f1"
   }
  }
 },
 "nbformat": 4,
 "nbformat_minor": 2
}
