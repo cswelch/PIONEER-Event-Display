{
 "cells": [
  {
   "cell_type": "code",
   "execution_count": 2,
   "metadata": {},
   "outputs": [
    {
     "name": "stdout",
     "output_type": "stream",
     "text": [
      "Using matplotlib backend: TkAgg\n",
      "Welcome to JupyROOT 6.26/06\n"
     ]
    }
   ],
   "source": [
    "#This is an example notebook that shows how the Event_Visualizer class can be used.\n",
    "%matplotlib auto\n",
    "%load_ext autoreload\n",
    "%autoreload 2\n",
    "from event_visualizer import Event_Visualizer\n",
    "import ROOT as r"
   ]
  },
  {
   "cell_type": "code",
   "execution_count": 8,
   "metadata": {},
   "outputs": [
    {
     "name": "stdout",
     "output_type": "stream",
     "text": [
      "Event #  0\n",
      "Event #  1\n",
      "Event #  2\n"
     ]
    },
    {
     "name": "stderr",
     "output_type": "stream",
     "text": [
      "No artists with labels found to put in legend.  Note that artists whose label start with an underscore are ignored when legend() is called with no argument.\n"
     ]
    },
    {
     "name": "stdout",
     "output_type": "stream",
     "text": [
      "Event #  3\n"
     ]
    },
    {
     "name": "stderr",
     "output_type": "stream",
     "text": [
      "No artists with labels found to put in legend.  Note that artists whose label start with an underscore are ignored when legend() is called with no argument.\n"
     ]
    },
    {
     "name": "stdout",
     "output_type": "stream",
     "text": [
      "Event #  4\n"
     ]
    },
    {
     "name": "stderr",
     "output_type": "stream",
     "text": [
      "No artists with labels found to put in legend.  Note that artists whose label start with an underscore are ignored when legend() is called with no argument.\n"
     ]
    },
    {
     "name": "stdout",
     "output_type": "stream",
     "text": [
      "Event #  5\n",
      "Event #  6\n",
      "Event #  7\n",
      "Event #  8\n"
     ]
    }
   ],
   "source": [
    "EV = Event_Visualizer()\n",
    "\n",
    "input_file = r.TFile(\"~/pioneer/main/run/test.root\")\n",
    "EV.visualize_event(input_file, display_text_output=False);"
   ]
  },
  {
   "cell_type": "code",
   "execution_count": null,
   "metadata": {},
   "outputs": [],
   "source": [
    "#TESTING STUFF\n",
    "\n",
    "hist = r.TH1F(\"h1\", \"Edep\", 100, 0, 100)\n",
    "\n",
    "# for entry in tree:\n",
    "#     for atar in entry.atar:\n",
    "#         #hist.Fill(calo.GetTotalEnergyDeposit())\n",
    "#         print(atar.edep)\n",
    "\n",
    "canv = r.TCanvas()\n",
    "hist.Draw()\n",
    "canv.Update()\n",
    "canv.Draw()"
   ]
  }
 ],
 "metadata": {
  "kernelspec": {
   "display_name": "Python 3.10.4 64-bit",
   "language": "python",
   "name": "python3"
  },
  "language_info": {
   "codemirror_mode": {
    "name": "ipython",
    "version": 3
   },
   "file_extension": ".py",
   "mimetype": "text/x-python",
   "name": "python",
   "nbconvert_exporter": "python",
   "pygments_lexer": "ipython3",
   "version": "3.10.4"
  },
  "orig_nbformat": 4,
  "vscode": {
   "interpreter": {
    "hash": "916dbcbb3f70747c44a77c7bcd40155683ae19c65e1c03b4aa3499c5328201f1"
   }
  }
 },
 "nbformat": 4,
 "nbformat_minor": 2
}
