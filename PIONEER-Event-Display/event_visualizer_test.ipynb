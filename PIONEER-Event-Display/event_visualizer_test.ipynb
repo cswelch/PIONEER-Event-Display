{
 "cells": [
  {
   "cell_type": "code",
   "execution_count": 2,
   "metadata": {},
   "outputs": [
    {
     "name": "stdout",
     "output_type": "stream",
     "text": [
      "Using matplotlib backend: TkAgg\n",
      "Welcome to JupyROOT 6.26/06\n"
     ]
    }
   ],
   "source": [
    "#This is an example notebook that shows how the Event_Visualizer class can be used.\n",
    "%matplotlib auto\n",
    "%load_ext autoreload\n",
    "%autoreload 2\n",
    "from event_visualizer import Event_Visualizer\n",
    "import ROOT as r"
   ]
  },
  {
   "cell_type": "code",
   "execution_count": 3,
   "metadata": {},
   "outputs": [
    {
     "name": "stdout",
     "output_type": "stream",
     "text": [
      "Event #  0\n",
      "Event #  1\n",
      "Event #  2\n",
      "Event #  3\n",
      "Event #  4\n",
      "Event #  5\n"
     ]
    },
    {
     "name": "stderr",
     "output_type": "stream",
     "text": [
      "No artists with labels found to put in legend.  Note that artists whose label start with an underscore are ignored when legend() is called with no argument.\n"
     ]
    },
    {
     "name": "stdout",
     "output_type": "stream",
     "text": [
      "Event #  6\n",
      "Event #  7\n",
      "Event #  8\n",
      "Event #  9\n",
      "Event #  10\n",
      "Event #  11\n",
      "Event #  12\n",
      "Event #  13\n"
     ]
    },
    {
     "name": "stderr",
     "output_type": "stream",
     "text": [
      "No artists with labels found to put in legend.  Note that artists whose label start with an underscore are ignored when legend() is called with no argument.\n"
     ]
    },
    {
     "name": "stdout",
     "output_type": "stream",
     "text": [
      "Event #  14\n",
      "Event #  15\n",
      "Event #  16\n"
     ]
    },
    {
     "ename": "KeyboardInterrupt",
     "evalue": "",
     "output_type": "error",
     "traceback": [
      "\u001b[0;31m---------------------------------------------------------------------------\u001b[0m",
      "\u001b[0;31mKeyboardInterrupt\u001b[0m                         Traceback (most recent call last)",
      "\u001b[1;32m/home/cole/pioneer/main/PIONEER-Event-Display/event_visualizer_test.ipynb Cell 2\u001b[0m in \u001b[0;36m<cell line: 4>\u001b[0;34m()\u001b[0m\n\u001b[1;32m      <a href='vscode-notebook-cell:/home/cole/pioneer/main/PIONEER-Event-Display/event_visualizer_test.ipynb#W1sZmlsZQ%3D%3D?line=0'>1</a>\u001b[0m EV \u001b[39m=\u001b[39m Event_Visualizer()\n\u001b[1;32m      <a href='vscode-notebook-cell:/home/cole/pioneer/main/PIONEER-Event-Display/event_visualizer_test.ipynb#W1sZmlsZQ%3D%3D?line=2'>3</a>\u001b[0m input_file \u001b[39m=\u001b[39m r\u001b[39m.\u001b[39mTFile(\u001b[39m\"\u001b[39m\u001b[39m~/pioneer/main/run/test.root\u001b[39m\u001b[39m\"\u001b[39m)\n\u001b[0;32m----> <a href='vscode-notebook-cell:/home/cole/pioneer/main/PIONEER-Event-Display/event_visualizer_test.ipynb#W1sZmlsZQ%3D%3D?line=3'>4</a>\u001b[0m EV\u001b[39m.\u001b[39;49mvisualize_event(input_file, \u001b[39m1\u001b[39;49m, display_text_output\u001b[39m=\u001b[39;49m\u001b[39mFalse\u001b[39;49;00m)\n",
      "File \u001b[0;32m~/pioneer/main/PIONEER-Event-Display/event_visualizer.py:70\u001b[0m, in \u001b[0;36mEvent_Visualizer.visualize_event\u001b[0;34m(self, input_file, event_index, is_event_DAR, display_text_output)\u001b[0m\n\u001b[1;32m     67\u001b[0m \u001b[39mif\u001b[39;00m display_text_output:\n\u001b[1;32m     68\u001b[0m     \u001b[39mself\u001b[39m\u001b[39m.\u001b[39mdisplay_event(e)\n\u001b[0;32m---> 70\u001b[0m \u001b[39mself\u001b[39;49m\u001b[39m.\u001b[39;49mplot_event(e, \u001b[39m50\u001b[39;49m)\n\u001b[1;32m     72\u001b[0m \u001b[39mfor\u001b[39;00m gt \u001b[39min\u001b[39;00m e\u001b[39m.\u001b[39mgap_times:\n\u001b[1;32m     73\u001b[0m     gap_times\u001b[39m.\u001b[39mappend(gt)\n",
      "File \u001b[0;32m~/pioneer/main/PIONEER-Event-Display/event_visualizer.py:264\u001b[0m, in \u001b[0;36mEvent_Visualizer.plot_event\u001b[0;34m(self, event, num_planes)\u001b[0m\n\u001b[1;32m    262\u001b[0m plt\u001b[39m.\u001b[39mshow()\n\u001b[1;32m    263\u001b[0m \u001b[39m# Sleep for a short while to make sure plots don't flash by too fast on-screen.\u001b[39;00m\n\u001b[0;32m--> 264\u001b[0m plt\u001b[39m.\u001b[39;49mpause(\u001b[39m1\u001b[39;49m)\n\u001b[1;32m    265\u001b[0m plt\u001b[39m.\u001b[39mclose()\n",
      "File \u001b[0;32m/usr/lib/python3/dist-packages/matplotlib/pyplot.py:548\u001b[0m, in \u001b[0;36mpause\u001b[0;34m(interval)\u001b[0m\n\u001b[1;32m    546\u001b[0m         canvas\u001b[39m.\u001b[39mdraw_idle()\n\u001b[1;32m    547\u001b[0m     show(block\u001b[39m=\u001b[39m\u001b[39mFalse\u001b[39;00m)\n\u001b[0;32m--> 548\u001b[0m     canvas\u001b[39m.\u001b[39;49mstart_event_loop(interval)\n\u001b[1;32m    549\u001b[0m \u001b[39melse\u001b[39;00m:\n\u001b[1;32m    550\u001b[0m     time\u001b[39m.\u001b[39msleep(interval)\n",
      "File \u001b[0;32m/usr/lib/python3/dist-packages/matplotlib/backends/_backend_tk.py:381\u001b[0m, in \u001b[0;36mFigureCanvasTk.start_event_loop\u001b[0;34m(self, timeout)\u001b[0m\n\u001b[1;32m    378\u001b[0m     \u001b[39melse\u001b[39;00m:\n\u001b[1;32m    379\u001b[0m         \u001b[39mself\u001b[39m\u001b[39m.\u001b[39m_event_loop_id \u001b[39m=\u001b[39m \u001b[39mself\u001b[39m\u001b[39m.\u001b[39m_tkcanvas\u001b[39m.\u001b[39mafter_idle(\n\u001b[1;32m    380\u001b[0m             \u001b[39mself\u001b[39m\u001b[39m.\u001b[39mstop_event_loop)\n\u001b[0;32m--> 381\u001b[0m \u001b[39mself\u001b[39;49m\u001b[39m.\u001b[39;49m_tkcanvas\u001b[39m.\u001b[39;49mmainloop()\n",
      "File \u001b[0;32m/usr/lib/python3.10/tkinter/__init__.py:1458\u001b[0m, in \u001b[0;36mMisc.mainloop\u001b[0;34m(self, n)\u001b[0m\n\u001b[1;32m   1456\u001b[0m \u001b[39mdef\u001b[39;00m \u001b[39mmainloop\u001b[39m(\u001b[39mself\u001b[39m, n\u001b[39m=\u001b[39m\u001b[39m0\u001b[39m):\n\u001b[1;32m   1457\u001b[0m     \u001b[39m\"\"\"Call the mainloop of Tk.\"\"\"\u001b[39;00m\n\u001b[0;32m-> 1458\u001b[0m     \u001b[39mself\u001b[39;49m\u001b[39m.\u001b[39;49mtk\u001b[39m.\u001b[39;49mmainloop(n)\n",
      "\u001b[0;31mKeyboardInterrupt\u001b[0m: "
     ]
    }
   ],
   "source": [
    "EV = Event_Visualizer()\n",
    "\n",
    "input_file = r.TFile(\"~/pioneer/main/run/test.root\")\n",
    "EV.visualize_event(input_file, 1, display_text_output=False);"
   ]
  },
  {
   "cell_type": "code",
   "execution_count": null,
   "metadata": {},
   "outputs": [],
   "source": [
    "#TESTING STUFF, USED TO FIGURE OUT SIPM / CALO / ATAR METHODS AND LOOP STRUCTURE\n",
    "tree = input_file.Get(\"sim\")\n",
    "\n",
    "#Arrays to store pixel information to be added.\n",
    "pixel_times = []\n",
    "pixel_IDs = []\n",
    "pixel_edep = []\n",
    "pixel_pdgs = []\n",
    "\n",
    "sipm_ids = []\n",
    "sipm_edeps = []\n",
    "\n",
    "for branch in tree:\n",
    "    for atar in branch.atar:\n",
    "        pixel_times.append(atar.GetTime())\n",
    "        pixel_IDs.append(atar.GetPixelID())\n",
    "        pixel_edep.append(atar.GetEdep())\n",
    "        pixel_pdgs.append(atar.GetPDGID())\n",
    "\n",
    "    #Loop over the sipm branch to get the IDs of the SiPMs that were hit.\n",
    "    for sipm in branch.sipm:\n",
    "        sipm_ids.append(sipm.GetID())\n",
    "        sipm_edeps.append(sipm.GetNHits())\n",
    "\n",
    "\n",
    "# print(pixel_times, \"\\n\\n\")\n",
    "# print(pixel_IDs, \"\\n\\n\")\n",
    "# print(pixel_edep, \"\\n\\n\")\n",
    "# print(pixel_pdgs, \"\\n\\n\")\n",
    "# print(sipm_ids, \"\\n\\n\")\n",
    "# print(sipm_edeps)"
   ]
  },
  {
   "cell_type": "code",
   "execution_count": null,
   "metadata": {},
   "outputs": [],
   "source": [
    "#TESTING STUFF\n",
    "\n",
    "hist = r.TH1F(\"h1\", \"Edep\", 100, 0, 100)\n",
    "\n",
    "# for entry in tree:\n",
    "#     for atar in entry.atar:\n",
    "#         #hist.Fill(calo.GetTotalEnergyDeposit())\n",
    "#         print(atar.edep)\n",
    "\n",
    "canv = r.TCanvas()\n",
    "hist.Draw()\n",
    "canv.Update()\n",
    "canv.Draw()"
   ]
  }
 ],
 "metadata": {
  "kernelspec": {
   "display_name": "Python 3.10.4 64-bit",
   "language": "python",
   "name": "python3"
  },
  "language_info": {
   "codemirror_mode": {
    "name": "ipython",
    "version": 3
   },
   "file_extension": ".py",
   "mimetype": "text/x-python",
   "name": "python",
   "nbconvert_exporter": "python",
   "pygments_lexer": "ipython3",
   "version": "3.10.4"
  },
  "orig_nbformat": 4,
  "vscode": {
   "interpreter": {
    "hash": "916dbcbb3f70747c44a77c7bcd40155683ae19c65e1c03b4aa3499c5328201f1"
   }
  }
 },
 "nbformat": 4,
 "nbformat_minor": 2
}
